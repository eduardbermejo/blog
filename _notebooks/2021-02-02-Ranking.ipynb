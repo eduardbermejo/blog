{
 "metadata": {
  "language_info": {
   "codemirror_mode": {
    "name": "ipython",
    "version": 3
   },
   "file_extension": ".py",
   "mimetype": "text/x-python",
   "name": "python",
   "nbconvert_exporter": "python",
   "pygments_lexer": "ipython3",
   "version": 3
  },
  "orig_nbformat": 2
 },
 "nbformat": 4,
 "nbformat_minor": 2,
 "cells": [
  {
   "source": [
    "# \"Ranking\"\n",
    "\n",
    "- toc: false\n",
    "- comments: true\n",
    "- hide: false\n",
    "- search_exclude: true"
   ],
   "cell_type": "markdown",
   "metadata": {}
  },
  {
   "source": [
    "So we have some kind of reading club at our company where we normally share papers that we find interesting, so one of us has to explain the paper to the rest. \n",
    "This is week was my turn and since we had lately been talking about recommendation I thought on looking for a paper on Ranking. But instead of finding a SOA paper,\n",
    "I thought it might be interesting to go into the roots and start simple since I hadnt touched much about this topic before. I finally decided to talk about the \n",
    "paper by Microsoft named \"\" wchich is not precisely new. Once I started reading it some references to previous work pop out as expected but there was a common factor in \n",
    "all of them, a more basic concept named Ordinal Regression. So I decided to read about this and explain this concept before commenting on the paper. So I am gonna \n",
    "recreate my talk here starting from Ordinal Regression and touching later on Ranking as explained in the Microsoft paper. "
   ],
   "cell_type": "markdown",
   "metadata": {}
  },
  {
   "cell_type": "code",
   "execution_count": null,
   "metadata": {},
   "outputs": [],
   "source": []
  }
 ]
}